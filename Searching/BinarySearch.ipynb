{
 "cells": [
  {
   "attachments": {},
   "cell_type": "markdown",
   "metadata": {},
   "source": [
    "# Binary Search "
   ]
  },
  {
   "attachments": {},
   "cell_type": "markdown",
   "metadata": {},
   "source": [
    "Binary Search is a searching algorithm for finding an element's  position in a sorted array.\n",
    "\n",
    "In this approach, the element is always searched in the middle of a portion of an array "
   ]
  },
  {
   "attachments": {},
   "cell_type": "markdown",
   "metadata": {},
   "source": [
    "`Binary Search can be implemented only on a sorted list of items. If the elements are not sorted already, we need to sort them first `"
   ]
  },
  {
   "attachments": {},
   "cell_type": "markdown",
   "metadata": {},
   "source": [
    "### Binary Search Working \n",
    "\n",
    "It can be implemented in 2 ways \n",
    "1. Iterative Method \n",
    "2. Recursive Method  \n",
    "\n",
    "The recursive method follows divide & conquer approach \n",
    "\n"
   ]
  },
  {
   "cell_type": "code",
   "execution_count": 38,
   "metadata": {},
   "outputs": [],
   "source": [
    "def BinarySearch(array,tofind,low,high):\n",
    "    while low<=high:\n",
    "        mid = low + (high-low)//2 \n",
    "\n",
    "        if array[mid]==tofind:\n",
    "            return mid \n",
    "        elif array[mid]<tofind:\n",
    "            low = mid+1\n",
    "        else:\n",
    "            high = mid-1\n",
    "\n",
    "    return \"Element not found !\""
   ]
  },
  {
   "cell_type": "code",
   "execution_count": 41,
   "metadata": {},
   "outputs": [
    {
     "name": "stdout",
     "output_type": "stream",
     "text": [
      "3\n"
     ]
    }
   ],
   "source": [
    "array = [1,2,3,5,6]\n",
    "tofind = 5\n",
    "\n",
    "result = BinarySearch(array,tofind,0,len(array)-1)\n",
    "# print(str(result))\n",
    "print(result)\n",
    "\n",
    "# if result != -1:\n",
    "#     print(\"Element is present at index \" + str(result))\n",
    "# else:\n",
    "#     print(\"Not found\")"
   ]
  }
 ],
 "metadata": {
  "kernelspec": {
   "display_name": "Python 3",
   "language": "python",
   "name": "python3"
  },
  "language_info": {
   "codemirror_mode": {
    "name": "ipython",
    "version": 3
   },
   "file_extension": ".py",
   "mimetype": "text/x-python",
   "name": "python",
   "nbconvert_exporter": "python",
   "pygments_lexer": "ipython3",
   "version": "3.9.13"
  },
  "orig_nbformat": 4,
  "vscode": {
   "interpreter": {
    "hash": "43a24ecce625020f2d6631fb4cfb730bba30d877e9fe9ec2e0d85cb5a52a2b64"
   }
  }
 },
 "nbformat": 4,
 "nbformat_minor": 2
}
