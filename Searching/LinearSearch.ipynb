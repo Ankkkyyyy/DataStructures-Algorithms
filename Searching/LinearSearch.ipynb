{
 "cells": [
  {
   "attachments": {},
   "cell_type": "markdown",
   "metadata": {},
   "source": [
    "## Linear Search "
   ]
  },
  {
   "attachments": {},
   "cell_type": "markdown",
   "metadata": {},
   "source": [
    "Linear Search is a sequential searching algorithm where we start from one end and check every element of the list until the desired element is found.    \n",
    "It is the simplest searching algorithm "
   ]
  },
  {
   "cell_type": "code",
   "execution_count": 1,
   "metadata": {},
   "outputs": [],
   "source": [
    "def LinearSearch(array,n,tofind):\n",
    "    for i in range(0,n):\n",
    "        if(array[i]==tofind):\n",
    "            return i \n",
    "    return \"Element is not present !\"\n"
   ]
  },
  {
   "cell_type": "code",
   "execution_count": 2,
   "metadata": {},
   "outputs": [
    {
     "name": "stdout",
     "output_type": "stream",
     "text": [
      "1\n"
     ]
    }
   ],
   "source": [
    "array = [9,90,99,0,1]\n",
    "tofind = 90\n",
    "n = len(array)\n",
    "result = LinearSearch(array,n,tofind)\n",
    "print(result)\n"
   ]
  },
  {
   "attachments": {},
   "cell_type": "markdown",
   "metadata": {},
   "source": [
    "### Linear Search Complexities \n",
    "\n",
    "Time Complexity: o(n)\n",
    "\n",
    "Space Complexity: o(1)\n"
   ]
  },
  {
   "attachments": {},
   "cell_type": "markdown",
   "metadata": {},
   "source": [
    "### Linear Search Applications\n",
    "\n",
    "For searching operations in smaller arrays (<100 items)."
   ]
  }
 ],
 "metadata": {
  "kernelspec": {
   "display_name": "Python 3",
   "language": "python",
   "name": "python3"
  },
  "language_info": {
   "codemirror_mode": {
    "name": "ipython",
    "version": 3
   },
   "file_extension": ".py",
   "mimetype": "text/x-python",
   "name": "python",
   "nbconvert_exporter": "python",
   "pygments_lexer": "ipython3",
   "version": "3.9.13"
  },
  "orig_nbformat": 4,
  "vscode": {
   "interpreter": {
    "hash": "43a24ecce625020f2d6631fb4cfb730bba30d877e9fe9ec2e0d85cb5a52a2b64"
   }
  }
 },
 "nbformat": 4,
 "nbformat_minor": 2
}
