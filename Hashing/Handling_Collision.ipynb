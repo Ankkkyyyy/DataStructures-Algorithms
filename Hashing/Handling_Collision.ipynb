{
 "cells": [
  {
   "attachments": {},
   "cell_type": "markdown",
   "metadata": {},
   "source": [
    "# *Handling Collision* "
   ]
  },
  {
   "attachments": {},
   "cell_type": "markdown",
   "metadata": {},
   "source": [
    "## *Their are 2 Approach*"
   ]
  },
  {
   "attachments": {},
   "cell_type": "markdown",
   "metadata": {},
   "source": [
    "### 1. *Separate Chaining Approach* "
   ]
  },
  {
   "attachments": {},
   "cell_type": "markdown",
   "metadata": {},
   "source": [
    "Instead of Directly Storing Value we store a Linked list  or List at Every Location \n",
    "\n",
    "In chaining, if a hash function produces the same index for multiple elements, these elements are stored in the same index by using a doubly-linked list.\n",
    "\n",
    "If j is the slot for multiple elements, it contains a pointer to the head of the list of elements. If no element is present, j contains NIL"
   ]
  },
  {
   "attachments": {},
   "cell_type": "markdown",
   "metadata": {},
   "source": [
    "### 2. *Linear Probing*"
   ]
  },
  {
   "attachments": {},
   "cell_type": "markdown",
   "metadata": {},
   "source": [
    "In linear probing, collision is resolved by checking the next slot.\n",
    "\n",
    "If a collision occurs at h(k, 0), then h(k, 1) is checked. In this way, the value of i is incremented linearly.\n",
    "\n"
   ]
  },
  {
   "cell_type": "code",
   "execution_count": 8,
   "metadata": {},
   "outputs": [],
   "source": [
    "class HashTable: \n",
    "    def __init__(self):\n",
    "        self.MAX = 10 \n",
    "        self.arr = [ [] for i in range(self.MAX)]\n",
    "\n",
    "    def get_hash(self,key):\n",
    "        h = 0 \n",
    "        for char in key:\n",
    "            h+= ord(char)\n",
    "        return h % self.MAX\n",
    "    \n",
    "    # def add(self,key,value):\n",
    "    #     h = self.get_hash(key)\n",
    "    #     # self.arr[h]= value\n",
    "    #     for idx, element in enumerate(self.arr[h]):\n",
    "    #         if len(element)== 2 and element[0]==key:\n",
    "    #             self.arr[h] = element[1]=value\n",
    "\n",
    "    #     self.arr[h].append((key,value))\n",
    "\n",
    "\n",
    "    def get(self,key):\n",
    "        h = self.get_hash(key)\n",
    "        return self.arr[h]\n",
    "    \n",
    "    def delete(self,key):\n",
    "        h = self.get_hash(key)\n",
    "        self.arr[h]= None \n",
    "    \n"
   ]
  },
  {
   "cell_type": "code",
   "execution_count": 9,
   "metadata": {},
   "outputs": [
    {
     "data": {
      "text/plain": [
       "9"
      ]
     },
     "execution_count": 9,
     "metadata": {},
     "output_type": "execute_result"
    }
   ],
   "source": [
    "ht = HashTable()\n",
    "ht.get_hash('march 6')"
   ]
  },
  {
   "cell_type": "code",
   "execution_count": 10,
   "metadata": {},
   "outputs": [
    {
     "data": {
      "text/plain": [
       "9"
      ]
     },
     "execution_count": 10,
     "metadata": {},
     "output_type": "execute_result"
    }
   ],
   "source": [
    "ht.get_hash('march 17')"
   ]
  },
  {
   "cell_type": "code",
   "execution_count": 6,
   "metadata": {},
   "outputs": [],
   "source": [
    "ht.add('march 6',999)\n",
    "ht.add('march 17','added')"
   ]
  },
  {
   "cell_type": "code",
   "execution_count": 7,
   "metadata": {},
   "outputs": [
    {
     "data": {
      "text/plain": [
       "'added'"
      ]
     },
     "execution_count": 7,
     "metadata": {},
     "output_type": "execute_result"
    }
   ],
   "source": [
    "ht.get('march 6')"
   ]
  },
  {
   "attachments": {},
   "cell_type": "markdown",
   "metadata": {},
   "source": [
    "## See above Collision Occured !!!"
   ]
  },
  {
   "cell_type": "code",
   "execution_count": null,
   "metadata": {},
   "outputs": [],
   "source": []
  }
 ],
 "metadata": {
  "kernelspec": {
   "display_name": "base",
   "language": "python",
   "name": "python3"
  },
  "language_info": {
   "codemirror_mode": {
    "name": "ipython",
    "version": 3
   },
   "file_extension": ".py",
   "mimetype": "text/x-python",
   "name": "python",
   "nbconvert_exporter": "python",
   "pygments_lexer": "ipython3",
   "version": "3.9.13"
  },
  "orig_nbformat": 4
 },
 "nbformat": 4,
 "nbformat_minor": 2
}
