{
 "cells": [
  {
   "attachments": {},
   "cell_type": "markdown",
   "metadata": {},
   "source": [
    "# Recursion \n",
    "\n",
    "In simple words it is a process a function call itself directly or indirectly \n",
    "\n",
    "In Python & programming recurssion are used when Problem can be broken into simpler parts & more readable code \n",
    "\n",
    "Some Qs are solved easily by using iteration & some Qs are solved easily by Recursion \n",
    "We have to think before using iteration & recursion we just have to identify whther recursion will solve this faster or iteration will solve this faster "
   ]
  },
  {
   "attachments": {},
   "cell_type": "markdown",
   "metadata": {},
   "source": [
    "## Recursive Function \n",
    "\n",
    "a) base case (imp)    \n",
    "b) general recursive case  (imp)    \n",
    "c) work process ( Optional )    "
   ]
  },
  {
   "attachments": {},
   "cell_type": "markdown",
   "metadata": {},
   "source": [
    "### Base Case \n",
    "\n",
    "2^5  We have to calculate it using recursion    \n",
    " we  will break it into 2* 2^4 -> 2* 2^3 -> 2* 2^2 -> 2* 2^1 -> 2* 2^0    \n",
    " Here base condtion is arrived    \n",
    " anything raise to 0 is always 1 \n"
   ]
  },
  {
   "attachments": {},
   "cell_type": "markdown",
   "metadata": {},
   "source": [
    "### General ( recursive ) Case \n",
    "\n",
    "def recursive():       \n",
    "    if(condition) == base\n",
    "        ----\n",
    "    else \n",
    "        # general case \n",
    "       statement calling recfun() "
   ]
  },
  {
   "attachments": {},
   "cell_type": "markdown",
   "metadata": {},
   "source": [
    "Examples "
   ]
  },
  {
   "attachments": {},
   "cell_type": "markdown",
   "metadata": {},
   "source": [
    "Countdown function "
   ]
  },
  {
   "cell_type": "code",
   "execution_count": 1,
   "metadata": {},
   "outputs": [
    {
     "name": "stdout",
     "output_type": "stream",
     "text": [
      "3\n",
      "2\n",
      "1\n"
     ]
    }
   ],
   "source": [
    "def count_down(start):\n",
    "    print(start)\n",
    "    next = start -1 \n",
    "    if next > 0:\n",
    "        count_down(start-1)\n",
    "\n",
    "count_down(3)"
   ]
  },
  {
   "attachments": {},
   "cell_type": "markdown",
   "metadata": {},
   "source": [
    "Sum of n  Natural Numbers "
   ]
  },
  {
   "cell_type": "code",
   "execution_count": 2,
   "metadata": {},
   "outputs": [],
   "source": [
    "def sum(n): # 5\n",
    "    if n<=1:\n",
    "        return n \n",
    "    else: # 5\n",
    "        ans = sum(n-1)  # ans = 4 , ans = 4, 2,1\n",
    "        return n+ans  # 5+4 =9 , 9 +3 , 12 +2, 14+1"
   ]
  },
  {
   "cell_type": "code",
   "execution_count": 3,
   "metadata": {},
   "outputs": [
    {
     "name": "stdout",
     "output_type": "stream",
     "text": [
      "15\n"
     ]
    }
   ],
   "source": [
    "print(sum(5))"
   ]
  },
  {
   "cell_type": "code",
   "execution_count": 4,
   "metadata": {},
   "outputs": [
    {
     "name": "stdout",
     "output_type": "stream",
     "text": [
      "9\n",
      "Plz enter an even number \n"
     ]
    }
   ],
   "source": [
    "def EvenNums(num):\n",
    "    print(num)\n",
    "    if num %2 !=0 :\n",
    "        print(\"Plz enter an even number \")\n",
    "    elif num==2:\n",
    "        return num \n",
    "    else :\n",
    "        return EvenNums(num-2)\n",
    "\n",
    "EvenNums(9)"
   ]
  },
  {
   "cell_type": "code",
   "execution_count": 5,
   "metadata": {},
   "outputs": [
    {
     "data": {
      "text/plain": [
       "1"
      ]
     },
     "execution_count": 5,
     "metadata": {},
     "output_type": "execute_result"
    }
   ],
   "source": [
    "# Fibonacci Series \n",
    "# A sequence where next value equals\n",
    "\n",
    "def fibonacci(idx):\n",
    "    seq = [0,1]\n",
    "    for i in range(idx):\n",
    "        seq.append(seq[-1]+seq[-2])\n",
    "    return seq[-2]\n",
    "\n",
    "def Fibonacci(idx):\n",
    "    if idx <=1:\n",
    "        return idx\n",
    "    else:\n",
    "        return Fibonacci(idx-1) + Fibonacci(idx-2)\n",
    "\n",
    "# Fibonacci(3)\n",
    "fibonacci(1)\n"
   ]
  },
  {
   "attachments": {},
   "cell_type": "markdown",
   "metadata": {},
   "source": [
    "sum of first 6 natural number \n",
    "\n",
    "\n",
    "n = 6 \n",
    "\n",
    "sum(6) = 6 + sum(5)   \n",
    "6+5+4+sum(3)    \n",
    "6+5+4+sum(2)   \n",
    "6+5+4+3+2+sum(1)      \n",
    "6+5+4+3+2+1   \n",
    "\n"
   ]
  },
  {
   "attachments": {},
   "cell_type": "markdown",
   "metadata": {},
   "source": [
    "### Types of Recursion in Python \n",
    "\n",
    "1.) Direct Recursion    \n",
    "--> a.) Tail Recursion   \n",
    "--> b.) Head Recursion \n",
    "\n",
    "2.) Indirect Recursion "
   ]
  },
  {
   "attachments": {},
   "cell_type": "markdown",
   "metadata": {},
   "source": [
    "### Tail Recurssive "
   ]
  },
  {
   "cell_type": "code",
   "execution_count": 6,
   "metadata": {},
   "outputs": [
    {
     "name": "stdout",
     "output_type": "stream",
     "text": [
      "5\n",
      "4\n",
      "3\n",
      "2\n",
      "1\n"
     ]
    }
   ],
   "source": [
    "def tail(n):\n",
    "    if n==0:\n",
    "        return \n",
    "    print(n)  # Tail recursive call \n",
    "    tail(n-1)\n",
    "\n",
    "tail(5)"
   ]
  },
  {
   "attachments": {},
   "cell_type": "markdown",
   "metadata": {},
   "source": [
    "### Head Recursion "
   ]
  },
  {
   "cell_type": "code",
   "execution_count": 7,
   "metadata": {},
   "outputs": [
    {
     "name": "stdout",
     "output_type": "stream",
     "text": [
      "1\n",
      "2\n",
      "3\n",
      "4\n",
      "5\n"
     ]
    }
   ],
   "source": [
    "def head(n):\n",
    "    if(n>0): \n",
    "        head(n-1) \n",
    "        print(n) # 5,4,3,2,1  | 0 pe rukkgaya but print execute karna baki tha then abh base pe gaya hai 1 so 1 se leke 5 tak ek kr krke print karega \n",
    "head(5)"
   ]
  },
  {
   "attachments": {},
   "cell_type": "markdown",
   "metadata": {},
   "source": [
    "Indirect Recursion    \n",
    "\n",
    "In this type the function calls another function which call the original function "
   ]
  },
  {
   "cell_type": "code",
   "execution_count": 1,
   "metadata": {},
   "outputs": [
    {
     "name": "stdout",
     "output_type": "stream",
     "text": [
      "20 21 16 17 12 13 8 9 4 5 "
     ]
    }
   ],
   "source": [
    "def A(n):\n",
    "    if n>0:\n",
    "        print(n,end=\" \")\n",
    "        B(n+1)\n",
    "\n",
    "def B(n):\n",
    "    if n>1:\n",
    "        print(n,end=\" \")\n",
    "        A(n-5)\n",
    "\n",
    "A(20)\n"
   ]
  },
  {
   "attachments": {},
   "cell_type": "markdown",
   "metadata": {},
   "source": [
    "## Fibonacci Series"
   ]
  },
  {
   "cell_type": "code",
   "execution_count": null,
   "metadata": {},
   "outputs": [],
   "source": [
    "# 0,1,1,2,3,5,8,13,21,34\n",
    "\n",
    "#  Base Case : sum of previous 2 digit \n",
    "\n",
    "# Recursive Call -> fib(n-1)"
   ]
  },
  {
   "cell_type": "code",
   "execution_count": 6,
   "metadata": {},
   "outputs": [],
   "source": [
    "def fib(n):\n",
    "    if n==0:\n",
    "        return 0\n",
    "    elif n == 1 or n==2:\n",
    "        return 1\n",
    "    return fib(n-1)+fib(n-2)"
   ]
  },
  {
   "cell_type": "code",
   "execution_count": 10,
   "metadata": {},
   "outputs": [
    {
     "name": "stdout",
     "output_type": "stream",
     "text": [
      "At 8th fib is  21\n"
     ]
    }
   ],
   "source": [
    "print(\"At 8th fib is \",fib(8))"
   ]
  },
  {
   "attachments": {},
   "cell_type": "markdown",
   "metadata": {},
   "source": [
    "### Advantage of Recurssion in Python "
   ]
  },
  {
   "attachments": {},
   "cell_type": "markdown",
   "metadata": {},
   "source": [
    "1.)  It helps in reducing length of code    \n",
    "2.) It helps elegance of code    \n",
    "3.) It helps in breaking a complex problem in simpler one   \n",
    "4.) The Sequence Generation & Tree Traversal can done better with the Recurssion   "
   ]
  },
  {
   "attachments": {},
   "cell_type": "markdown",
   "metadata": {},
   "source": [
    "### Disadvantage of Recurssion in Python "
   ]
  },
  {
   "attachments": {},
   "cell_type": "markdown",
   "metadata": {},
   "source": [
    "1.) It is difficult to frame & understand the logic behind the recurssive function   \n",
    "2.) It is hard to understand for every problem & to visualize a Tree for every problem   \n",
    "3.) It takes more memory    \n",
    "4.) Recursive in Python can be slow if not implemented correctly   \n",
    "5.) Python Recursive call may be insufficient in some case it takes lot of memory & time\n"
   ]
  }
 ],
 "metadata": {
  "kernelspec": {
   "display_name": "Python 3",
   "language": "python",
   "name": "python3"
  },
  "language_info": {
   "codemirror_mode": {
    "name": "ipython",
    "version": 3
   },
   "file_extension": ".py",
   "mimetype": "text/x-python",
   "name": "python",
   "nbconvert_exporter": "python",
   "pygments_lexer": "ipython3",
   "version": "3.9.13"
  },
  "orig_nbformat": 4,
  "vscode": {
   "interpreter": {
    "hash": "43a24ecce625020f2d6631fb4cfb730bba30d877e9fe9ec2e0d85cb5a52a2b64"
   }
  }
 },
 "nbformat": 4,
 "nbformat_minor": 2
}
