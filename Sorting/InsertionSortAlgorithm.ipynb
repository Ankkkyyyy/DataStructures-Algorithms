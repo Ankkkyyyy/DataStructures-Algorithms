{
 "cells": [
  {
   "attachments": {},
   "cell_type": "markdown",
   "metadata": {},
   "source": [
    "# Insertion Sort "
   ]
  },
  {
   "attachments": {},
   "cell_type": "markdown",
   "metadata": {},
   "source": [
    "Insertion Sort is a sorting algorithm that places an unsorted element at its suitable place in each iteration."
   ]
  },
  {
   "attachments": {},
   "cell_type": "markdown",
   "metadata": {},
   "source": [
    "Insertion Sort works similarly as we sort cards in our hand in  a card game.\n"
   ]
  },
  {
   "attachments": {},
   "cell_type": "markdown",
   "metadata": {},
   "source": [
    "We assume that the first card is already sorted then, we select an unsorted card. If the unsorted card is greater than the card in hand, it is placed on the right otherwise, to the left. In the same way, other unsorted cards are taken and put in their right place.\n",
    "\n",
    "A similar approach is used by insertion sort."
   ]
  },
  {
   "attachments": {},
   "cell_type": "markdown",
   "metadata": {},
   "source": [
    "Bubble -> back \n",
    "selection -> front \n",
    "\n",
    "insertion sort -> 10,5,9, 4,2 \n",
    "we assume 1st is sorted \n",
    "\n",
    "we will take this 5 & compare with left \n",
    "if it is small then swap karenge \n",
    "\n",
    "so \n",
    "\n",
    "5 10 9 4 2 \n",
    "\n",
    "now we will take 9 vo left se compare karenge \n",
    "it is small then \n",
    "\n",
    "5 9 10 \n",
    "\n",
    "abh 4 lenge \n",
    "& so on sbh sort hojayega "
   ]
  },
  {
   "attachments": {},
   "cell_type": "markdown",
   "metadata": {},
   "source": [
    "Best o(n)   \n",
    "Worst o(n^2)    \n",
    "Space o(1)"
   ]
  },
  {
   "cell_type": "code",
   "execution_count": 10,
   "metadata": {},
   "outputs": [],
   "source": [
    "def InsertionSort(array):\n",
    "    for i in range(1,len(array)):\n",
    "        key = array[i]\n",
    "        j = i -1 \n",
    "        # comparing key with each element on left side\n",
    "        while j>=0 and key<array[j]:\n",
    "            # checks two conditions: whether the index j is greater than or equal to 0 (i.e., whether there are still elements to the left of the current element being sorted), and whether the value of\n",
    "            #  key is less than the value of the element at index j.\n",
    "            array[j+1] = array[j]  # shiffting elements \n",
    "            j = j -1  \n",
    "            # his line decrements the index j by 1, \n",
    "            # so that the loop can continue to \n",
    "            # compare key with the previous element to the left.\n",
    "\n",
    "        array[j+1] = key \n",
    "    # Once the while loop completes, \n",
    "    # the outer for loop moves on to the next element \n",
    "    # in the array, and the process repeats."
   ]
  },
  {
   "cell_type": "code",
   "execution_count": 11,
   "metadata": {},
   "outputs": [],
   "source": [
    "def Insertionsort(array):\n",
    "    for i in range(1,len(array)):\n",
    "        key = array[i]  #\n",
    "        j = i -1 # backward direction \n",
    "        while j>=0 and key<array[j]:\n",
    "            array[j+1] = array[j] # i will shfit all to right side\n",
    "            j = j - 1\n",
    "        array[j+1]= key "
   ]
  },
  {
   "cell_type": "code",
   "execution_count": 12,
   "metadata": {},
   "outputs": [
    {
     "name": "stdout",
     "output_type": "stream",
     "text": [
      "[0, 1, 2, 9, 999]\n"
     ]
    }
   ],
   "source": [
    "data = [9,999,0,1,2]\n",
    "\n",
    "# InsertionSort2(data)\n",
    "Insertionsort(data)\n",
    "print(data)"
   ]
  }
 ],
 "metadata": {
  "kernelspec": {
   "display_name": "Python 3",
   "language": "python",
   "name": "python3"
  },
  "language_info": {
   "codemirror_mode": {
    "name": "ipython",
    "version": 3
   },
   "file_extension": ".py",
   "mimetype": "text/x-python",
   "name": "python",
   "nbconvert_exporter": "python",
   "pygments_lexer": "ipython3",
   "version": "3.9.13"
  },
  "orig_nbformat": 4,
  "vscode": {
   "interpreter": {
    "hash": "43a24ecce625020f2d6631fb4cfb730bba30d877e9fe9ec2e0d85cb5a52a2b64"
   }
  }
 },
 "nbformat": 4,
 "nbformat_minor": 2
}
