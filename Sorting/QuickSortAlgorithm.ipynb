{
 "cells": [
  {
   "attachments": {},
   "cell_type": "markdown",
   "metadata": {},
   "source": [
    "# Quick Sort Algorithm"
   ]
  },
  {
   "attachments": {},
   "cell_type": "markdown",
   "metadata": {},
   "source": [
    "Quick Sort is a sorting algorithm based on divide & conquer approach.\n",
    "\n",
    "An array is divided into subarrays by selecting a pivot element  \n",
    "   \n",
    "while dividing array, the pivot element should be positioned in such a way that elements less than pivot are kept on the left side & elements greater than pivot are on the right side of the pivot.\n",
    "\n",
    "Worst Time Complexity : O(n2)  \n",
    "\n",
    "Space Complexity : O(log n)"
   ]
  },
  {
   "attachments": {},
   "cell_type": "markdown",
   "metadata": {},
   "source": [
    "low  0,    \n",
    "high-1 ,   \n",
    "pivot  -1  \n"
   ]
  },
  {
   "cell_type": "code",
   "execution_count": 24,
   "metadata": {},
   "outputs": [],
   "source": [
    "def partition(array,low,high):\n",
    "    pivot = array[high]\n",
    "\n",
    "    # pointer for greater element \n",
    "    i = low - 1 \n",
    "\n",
    "    for j in range(low,high):\n",
    "        \n",
    "        if array[j] <=pivot:\n",
    "\n",
    "            i = i+1\n",
    "            (array[i],array[j]) = (array[j],array[i])\n",
    " # swap the pivot element with the greater element specified by i\n",
    "    (array[i+1],array[high]) = (array[high],array[i+1])\n",
    "\n",
    "    return i+1 \n",
    "\n",
    "def quicksort(array,low,high):\n",
    "    if low<high:\n",
    "        pi = partition(array,low,high)\n",
    "\n",
    "        # left of pivot \n",
    "        quicksort(array,low,pi-1)\n",
    "\n",
    "        # right of pivot \n",
    "        quicksort(array,pi+1,high)"
   ]
  },
  {
   "cell_type": "code",
   "execution_count": 25,
   "metadata": {},
   "outputs": [
    {
     "name": "stdout",
     "output_type": "stream",
     "text": [
      "Unsorted array : [9, 10, 0, 2, 99]\n",
      "[0, 2, 9, 10, 99]\n"
     ]
    }
   ],
   "source": [
    "data = [9,10,0,2,99]\n",
    "print(\"Unsorted array :\",data)\n",
    "size = len(data)\n",
    "quicksort(data,0,size-1)\n",
    "\n",
    "print(data)"
   ]
  }
 ],
 "metadata": {
  "kernelspec": {
   "display_name": "Python 3",
   "language": "python",
   "name": "python3"
  },
  "language_info": {
   "codemirror_mode": {
    "name": "ipython",
    "version": 3
   },
   "file_extension": ".py",
   "mimetype": "text/x-python",
   "name": "python",
   "nbconvert_exporter": "python",
   "pygments_lexer": "ipython3",
   "version": "3.9.13"
  },
  "orig_nbformat": 4,
  "vscode": {
   "interpreter": {
    "hash": "43a24ecce625020f2d6631fb4cfb730bba30d877e9fe9ec2e0d85cb5a52a2b64"
   }
  }
 },
 "nbformat": 4,
 "nbformat_minor": 2
}
