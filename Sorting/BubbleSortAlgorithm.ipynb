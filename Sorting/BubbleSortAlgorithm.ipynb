{
 "cells": [
  {
   "attachments": {},
   "cell_type": "markdown",
   "metadata": {},
   "source": [
    "# Sorting "
   ]
  },
  {
   "attachments": {},
   "cell_type": "markdown",
   "metadata": {},
   "source": [
    "## Bubble Sort "
   ]
  },
  {
   "attachments": {},
   "cell_type": "markdown",
   "metadata": {},
   "source": [
    "Bubble Sort is a sorting algorithm compares 2 adjacent elements  & swaps them until they are in proper order. \n",
    "\n"
   ]
  },
  {
   "attachments": {},
   "cell_type": "markdown",
   "metadata": {},
   "source": [
    "for in range len(array):  \n",
    "if current element is > next element \n",
    "  swap them \n",
    "  "
   ]
  },
  {
   "attachments": {},
   "cell_type": "markdown",
   "metadata": {},
   "source": [
    "10  5  9  4  2    \n",
    "i = 0     \n",
    "if array[i] > array[i+1]   \n",
    "swap karo     \n",
    "\n",
    "5 10 9 4 2 \n",
    "\n",
    "i = 1 \n",
    "if array[i] > array[i+1]   \n",
    "  swap      \n",
    "5 9 10 4 2\n",
    "\n",
    "i = 2 \n",
    "if array[i] > array[i+1]    \n",
    "  swap     \n",
    "5 9 4 10  2  \n",
    "\n",
    "i = 3\n",
    "if array[i] > array[i+1]    \n",
    "  swap     \n",
    "5 9 4  2 10  \n",
    "\n",
    "\n",
    "iteration hote hote sort hojayega har baar \n",
    "\n"
   ]
  },
  {
   "cell_type": "code",
   "execution_count": 3,
   "metadata": {},
   "outputs": [],
   "source": [
    "def BubbleSort(array):\n",
    "\n",
    "    # loop for accessing each array element \n",
    "    swap = False \n",
    "    for i in range(len(array)):\n",
    "\n",
    "        for j in range(0,len(array)-i-1):\n",
    "\n",
    "            if array[j] > array[j+1]:\n",
    "                swap = True \n",
    "                temp=  array[j]\n",
    "                array[j] = array[j+1]\n",
    "                array[j+1]= temp \n",
    "            if swap==False:\n",
    "                 break "
   ]
  },
  {
   "cell_type": "code",
   "execution_count": 4,
   "metadata": {},
   "outputs": [
    {
     "name": "stdout",
     "output_type": "stream",
     "text": [
      "[1, 2, 3, 4, 5]\n"
     ]
    }
   ],
   "source": [
    "data = [5,4,3,2,1]\n",
    "BubbleSort(data)\n",
    "\n",
    "print(data)"
   ]
  },
  {
   "cell_type": "code",
   "execution_count": null,
   "metadata": {},
   "outputs": [],
   "source": []
  }
 ],
 "metadata": {
  "kernelspec": {
   "display_name": "Python 3",
   "language": "python",
   "name": "python3"
  },
  "language_info": {
   "codemirror_mode": {
    "name": "ipython",
    "version": 3
   },
   "file_extension": ".py",
   "mimetype": "text/x-python",
   "name": "python",
   "nbconvert_exporter": "python",
   "pygments_lexer": "ipython3",
   "version": "3.9.13"
  },
  "orig_nbformat": 4,
  "vscode": {
   "interpreter": {
    "hash": "43a24ecce625020f2d6631fb4cfb730bba30d877e9fe9ec2e0d85cb5a52a2b64"
   }
  }
 },
 "nbformat": 4,
 "nbformat_minor": 2
}
