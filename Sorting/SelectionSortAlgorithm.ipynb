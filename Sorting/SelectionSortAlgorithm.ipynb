{
 "cells": [
  {
   "attachments": {},
   "cell_type": "markdown",
   "metadata": {},
   "source": [
    "# Selection Sort "
   ]
  },
  {
   "attachments": {},
   "cell_type": "markdown",
   "metadata": {},
   "source": [
    "Selection Sort is a sorting algorithm that selects the \n",
    "smallest element from an unsorted list in each iteration \n",
    "& places that element at the beginning of the unsorted element \n",
    "\n",
    "Worst Time COmplexity is o(n^2)\n",
    "\n",
    "Space Complexity o(1)\n"
   ]
  },
  {
   "cell_type": "code",
   "execution_count": 16,
   "metadata": {},
   "outputs": [],
   "source": [
    "def selectionSort(array,size):\n",
    "\n",
    "    for i in range(size):\n",
    "        min_idx = i\n",
    "        \n",
    "        for j in range(i+1,size):\n",
    "            if array[j] < array[min_idx]:\n",
    "                min_idx=j\n",
    "        # \n",
    "        array[i], array[min_idx] = array[min_idx], array[i]\n",
    "        #This means that the smallest element in the unsorted part of the array is moved to its correct position at the beginning of the \n",
    "        # sorted part of the array. The values are swapped using tuple packing and unpacking.\n",
    "    "
   ]
  },
  {
   "cell_type": "code",
   "execution_count": 17,
   "metadata": {},
   "outputs": [
    {
     "name": "stdout",
     "output_type": "stream",
     "text": [
      "[-2, 0, 2, 10, 99]\n"
     ]
    }
   ],
   "source": [
    "data = [-2,99,0,10,2]\n",
    "size=len(data)\n",
    "\n",
    "selectionSort(data,size)\n",
    "print(data)"
   ]
  }
 ],
 "metadata": {
  "kernelspec": {
   "display_name": "Python 3",
   "language": "python",
   "name": "python3"
  },
  "language_info": {
   "codemirror_mode": {
    "name": "ipython",
    "version": 3
   },
   "file_extension": ".py",
   "mimetype": "text/x-python",
   "name": "python",
   "nbconvert_exporter": "python",
   "pygments_lexer": "ipython3",
   "version": "3.9.13"
  },
  "orig_nbformat": 4,
  "vscode": {
   "interpreter": {
    "hash": "43a24ecce625020f2d6631fb4cfb730bba30d877e9fe9ec2e0d85cb5a52a2b64"
   }
  }
 },
 "nbformat": 4,
 "nbformat_minor": 2
}
