{
 "cells": [
  {
   "attachments": {},
   "cell_type": "markdown",
   "metadata": {},
   "source": [
    "# Queue \n",
    "Queue are very easy to go with & easy to tackle, imp for interviews & assignment test    \n",
    "In chats we store message in Queues"
   ]
  },
  {
   "attachments": {},
   "cell_type": "markdown",
   "metadata": {},
   "source": [
    "In Queue their is one entry point & 1 exit point     \n",
    "Queue Follows FIFO - First In first out \n",
    "\n",
    "#### Queue Methods or Operations \n",
    "Just lyk stack \n",
    "Queue has enqueue & dequeue, isempty \n",
    "\n",
    "`enqueue` is for pushing element inside Queue \n",
    "\n",
    "`dequeue` is for deleting or popping out an element outside queue    \n",
    "\n",
    "`is empty` it tells queue is empty or not basically size or number of elements"
   ]
  },
  {
   "attachments": {},
   "cell_type": "markdown",
   "metadata": {},
   "source": [
    "# Implementation of Queue \n",
    "\n",
    "3 ways to implement\n",
    "\n",
    "1.) list    \n",
    "2.) collection module mai hai deque it is actually called as doubly ended deque   \n",
    "3.) Queue from queue it is inbuilt module   "
   ]
  },
  {
   "cell_type": "code",
   "execution_count": 1,
   "metadata": {},
   "outputs": [
    {
     "name": "stdout",
     "output_type": "stream",
     "text": [
      "<class 'list'>\n"
     ]
    }
   ],
   "source": [
    "q = []\n",
    "print(type(q))"
   ]
  },
  {
   "cell_type": "code",
   "execution_count": 2,
   "metadata": {},
   "outputs": [
    {
     "name": "stdout",
     "output_type": "stream",
     "text": [
      "[10, 20, 30]\n"
     ]
    }
   ],
   "source": [
    "q.append(10)\n",
    "q.append(20)\n",
    "q.append(30)\n",
    "print(q)"
   ]
  },
  {
   "cell_type": "code",
   "execution_count": 3,
   "metadata": {},
   "outputs": [
    {
     "data": {
      "text/plain": [
       "10"
      ]
     },
     "execution_count": 3,
     "metadata": {},
     "output_type": "execute_result"
    }
   ],
   "source": [
    "q.pop(0)"
   ]
  },
  {
   "cell_type": "code",
   "execution_count": 4,
   "metadata": {},
   "outputs": [
    {
     "name": "stdout",
     "output_type": "stream",
     "text": [
      "[20, 30]\n"
     ]
    }
   ],
   "source": [
    "print(q)"
   ]
  },
  {
   "cell_type": "code",
   "execution_count": 5,
   "metadata": {},
   "outputs": [
    {
     "name": "stdout",
     "output_type": "stream",
     "text": [
      "[999, 99, 10]\n",
      "[999, 99]\n"
     ]
    }
   ],
   "source": [
    "queue = []\n",
    "queue.insert(0,10)\n",
    "queue.insert(0,99)\n",
    "queue.insert(0,999)\n",
    "print(queue)\n",
    "queue.pop()\n",
    "print(queue)"
   ]
  },
  {
   "attachments": {},
   "cell_type": "markdown",
   "metadata": {},
   "source": [
    "## Implementing Queue using dequeue (collections Module )\n",
    "\n",
    "prefer isko karna hai coz here in deque adding & popping is  of bigOh(1)    \n",
    "& list mai Order of N rehta big Oh(n)"
   ]
  },
  {
   "cell_type": "code",
   "execution_count": 6,
   "metadata": {},
   "outputs": [
    {
     "name": "stdout",
     "output_type": "stream",
     "text": [
      "deque([10, 20, 30])\n",
      "deque([20, 30])\n",
      "deque([30])\n",
      "1\n",
      "False\n"
     ]
    }
   ],
   "source": [
    "from collections import deque\n",
    "\n",
    "# queue = []\n",
    "queue =deque()\n",
    "\n",
    "# Insert \n",
    "queue.append(10)\n",
    "queue.append(20)\n",
    "queue.append(30)\n",
    "\n",
    "print(queue)\n",
    "\n",
    "# delete elements from left \n",
    "queue.popleft()\n",
    "print(queue)\n",
    "\n",
    "queue.popleft()\n",
    "print(queue)\n",
    "\n",
    "# size\n",
    "print(len(queue))\n",
    "\n",
    "# empty \n",
    "\n",
    "print(len(queue)==0)\n"
   ]
  },
  {
   "cell_type": "code",
   "execution_count": 7,
   "metadata": {},
   "outputs": [
    {
     "name": "stdout",
     "output_type": "stream",
     "text": [
      "deque([30, 20, 10])\n",
      "deque([30, 20])\n",
      "deque([30])\n",
      "1\n",
      "False\n"
     ]
    }
   ],
   "source": [
    "from collections import deque\n",
    "\n",
    "# queue = []\n",
    "queue =deque()\n",
    "\n",
    "# Insert \n",
    "queue.appendleft(10)\n",
    "queue.appendleft(20)\n",
    "queue.appendleft(30)\n",
    "\n",
    "print(queue)\n",
    "\n",
    "# delete elements from left \n",
    "queue.pop()\n",
    "print(queue)\n",
    "\n",
    "queue.pop()\n",
    "print(queue)\n",
    "\n",
    "# size\n",
    "print(len(queue))\n",
    "\n",
    "# empty \n",
    "\n",
    "print(len(queue)==0)\n"
   ]
  },
  {
   "attachments": {},
   "cell_type": "markdown",
   "metadata": {},
   "source": [
    "### Implementing Queue Using Queues "
   ]
  },
  {
   "cell_type": "code",
   "execution_count": 15,
   "metadata": {},
   "outputs": [
    {
     "name": "stdout",
     "output_type": "stream",
     "text": [
      "10\n",
      "2\n",
      "False\n",
      "False\n"
     ]
    }
   ],
   "source": [
    "from queue import Queue\n",
    "\n",
    "# q = Queue(maxsize=3) #maxsize number of elements that you want to allow inside queue\n",
    "\n",
    "q = Queue(maxsize=0)  #  for infinity\n",
    "q.put(10)\n",
    "q.put(92)\n",
    "q.put(99)\n",
    "\n",
    "\n",
    "# Access Elements \n",
    "\n",
    "print(q.get()) # equal to Pop() function \n",
    "print(q.qsize()) # for size \n",
    "\n",
    "\n",
    "# empty \n",
    "\n",
    "print(q.empty())  # is your queue empty ? \n",
    "\n",
    "print(q.full()) # is your queue is full ?\n"
   ]
  },
  {
   "attachments": {},
   "cell_type": "markdown",
   "metadata": {},
   "source": [
    "### Implementing Queue using User Defined Function "
   ]
  },
  {
   "cell_type": "code",
   "execution_count": 25,
   "metadata": {},
   "outputs": [
    {
     "name": "stdout",
     "output_type": "stream",
     "text": [
      "99\n",
      "989\n",
      "990909\n",
      "989\n",
      "990909\n"
     ]
    }
   ],
   "source": [
    "from collections import deque\n",
    "queue =deque()\n",
    "# queue = []\n",
    "front = None \n",
    "Rear = None \n",
    "\n",
    "def isEmpty(queue):\n",
    "    if queue==[]:\n",
    "        return True \n",
    "    else:\n",
    "        return False\n",
    "\n",
    "def enqueue(queue,value):\n",
    "    queue.append(value)\n",
    "    if len(queue) == 1:\n",
    "        front = Rear=0\n",
    "    else:\n",
    "        Rear = len(queue)-1 # index nikallrhe \n",
    "\n",
    "\n",
    "def dequeue(queue):\n",
    "    if isEmpty(queue) == True:\n",
    "        return \"Queue is Empty !\"\n",
    "    else :   \n",
    "         queue.popleft()\n",
    "\n",
    "def display(queue):\n",
    "    for i in range(len(queue)):\n",
    "        print(queue[i])  \n",
    "    # print()\n",
    "\n",
    "enqueue(queue,99)\n",
    "enqueue(queue,989)\n",
    "enqueue(queue,990909)\n",
    "\n",
    "display(queue)\n",
    "dequeue(queue)\n",
    "display(queue)"
   ]
  },
  {
   "cell_type": "code",
   "execution_count": 22,
   "metadata": {},
   "outputs": [
    {
     "name": "stdout",
     "output_type": "stream",
     "text": [
      "99\n",
      "989\n",
      "99\n",
      "989\n",
      "990909\n",
      "99\n",
      "989\n",
      "99\n",
      "989\n"
     ]
    }
   ],
   "source": [
    "enqueue(queue,99)\n",
    "enqueue(queue,989)\n",
    "enqueue(queue,990909)\n",
    "\n",
    "display(queue)\n",
    "dequeue(queue)\n",
    "# dequeue(queue)\n",
    "display(queue)"
   ]
  }
 ],
 "metadata": {
  "kernelspec": {
   "display_name": "Python 3",
   "language": "python",
   "name": "python3"
  },
  "language_info": {
   "codemirror_mode": {
    "name": "ipython",
    "version": 3
   },
   "file_extension": ".py",
   "mimetype": "text/x-python",
   "name": "python",
   "nbconvert_exporter": "python",
   "pygments_lexer": "ipython3",
   "version": "3.9.13"
  },
  "orig_nbformat": 4,
  "vscode": {
   "interpreter": {
    "hash": "43a24ecce625020f2d6631fb4cfb730bba30d877e9fe9ec2e0d85cb5a52a2b64"
   }
  }
 },
 "nbformat": 4,
 "nbformat_minor": 2
}
