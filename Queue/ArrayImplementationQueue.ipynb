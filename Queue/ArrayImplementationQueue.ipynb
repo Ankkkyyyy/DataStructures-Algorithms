{
 "cells": [
  {
   "attachments": {},
   "cell_type": "markdown",
   "metadata": {},
   "source": [
    "### Array Implementation of Queue"
   ]
  },
  {
   "cell_type": "code",
   "execution_count": 6,
   "metadata": {},
   "outputs": [],
   "source": [
    "# from collections import deque\n",
    "class Queue:\n",
    "    def __init__(self):\n",
    "        self.queue = []\n",
    "        # self.queue =deque()\n",
    "\n",
    "    def check_empty(self):\n",
    "        if len(self.queue)<1:\n",
    "            return True\n",
    "        else:\n",
    "            return False \n",
    "    \n",
    "    def enqueue(self,item):\n",
    "        self.queue.append(item)\n",
    "    \n",
    "    def dequeue(self):\n",
    "        # if len(self.queue) < 1:\n",
    "        #     None\n",
    "        # return self.queue.pop(0)\n",
    "        if self.check_empty()==True:\n",
    "            return \"Queue is empty\"\n",
    "        else:\n",
    "            self.queue.pop(0)\n",
    "\n",
    "    def display(self):\n",
    "        print(self.queue)\n"
   ]
  },
  {
   "cell_type": "code",
   "execution_count": 7,
   "metadata": {},
   "outputs": [
    {
     "name": "stdout",
     "output_type": "stream",
     "text": [
      "[]\n",
      "Queue at starting : None\n",
      "[99, 999, 0, 1]\n",
      "[999, 0, 1]\n",
      "[0, 1]\n"
     ]
    }
   ],
   "source": [
    "Q = Queue()\n",
    "\n",
    "print(\"Queue at starting :\",Q.display())\n",
    "\n",
    "Q.enqueue(99)\n",
    "Q.enqueue(999)\n",
    "Q.enqueue(0)\n",
    "Q.enqueue(1)\n",
    "Q.display()\n",
    "Q.dequeue()\n",
    "Q.display()\n",
    "\n",
    "Q.dequeue()\n",
    "Q.display()"
   ]
  }
 ],
 "metadata": {
  "kernelspec": {
   "display_name": "Python 3",
   "language": "python",
   "name": "python3"
  },
  "language_info": {
   "codemirror_mode": {
    "name": "ipython",
    "version": 3
   },
   "file_extension": ".py",
   "mimetype": "text/x-python",
   "name": "python",
   "nbconvert_exporter": "python",
   "pygments_lexer": "ipython3",
   "version": "3.9.13"
  },
  "orig_nbformat": 4,
  "vscode": {
   "interpreter": {
    "hash": "43a24ecce625020f2d6631fb4cfb730bba30d877e9fe9ec2e0d85cb5a52a2b64"
   }
  }
 },
 "nbformat": 4,
 "nbformat_minor": 2
}
