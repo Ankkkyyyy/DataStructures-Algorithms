{
 "cells": [
  {
   "attachments": {},
   "cell_type": "markdown",
   "metadata": {},
   "source": [
    "# Removing an Item from a Linked List "
   ]
  },
  {
   "attachments": {},
   "cell_type": "markdown",
   "metadata": {},
   "source": [
    "We can remove an existing node using the key for that node. \n",
    "\n",
    "we locate the previous node of the node which is to be delete. \n",
    "\n",
    "Then point the next pointer of this node to the next node of the node to be deleted. \n"
   ]
  },
  {
   "cell_type": "code",
   "execution_count": 1,
   "metadata": {},
   "outputs": [],
   "source": [
    "class Node:\n",
    "    def __init__(self,data):\n",
    "        self.data = data \n",
    "        self.next = None "
   ]
  },
  {
   "cell_type": "code",
   "execution_count": 2,
   "metadata": {},
   "outputs": [],
   "source": [
    "class LinkedList:\n",
    "    def __init__(self):\n",
    "        self.head = None \n",
    "\n",
    "    def print(self,data_in):\n",
    "        newNode = Node(data_in)\n",
    "        newNode.next = self.head \n",
    "        self.head = newNode\n",
    "    \n",
    "    # Function to remove node \n",
    "    def RemoveNode(self,Remove):\n",
    "        temp = self.head \n",
    "        if temp.data == Remove:\n",
    "            self.head = temp.next\n",
    "            temp.head = None \n",
    "            return \n",
    "        while(temp is not None ):\n",
    "            if temp.data == Remove:\n",
    "                break \n",
    "            prev = temp \n",
    "            temp  = temp.next\n",
    "        if temp == None:\n",
    "            return \n",
    "        prev.next = temp.next \n",
    "        temp = None \n"
   ]
  },
  {
   "cell_type": "code",
   "execution_count": null,
   "metadata": {},
   "outputs": [],
   "source": []
  }
 ],
 "metadata": {
  "kernelspec": {
   "display_name": "Python 3",
   "language": "python",
   "name": "python3"
  },
  "language_info": {
   "codemirror_mode": {
    "name": "ipython",
    "version": 3
   },
   "file_extension": ".py",
   "mimetype": "text/x-python",
   "name": "python",
   "nbconvert_exporter": "python",
   "pygments_lexer": "ipython3",
   "version": "3.9.13"
  },
  "orig_nbformat": 4,
  "vscode": {
   "interpreter": {
    "hash": "43a24ecce625020f2d6631fb4cfb730bba30d877e9fe9ec2e0d85cb5a52a2b64"
   }
  }
 },
 "nbformat": 4,
 "nbformat_minor": 2
}
