{
 "cells": [
  {
   "attachments": {},
   "cell_type": "markdown",
   "metadata": {},
   "source": [
    "# Inserting at the End of Linked List "
   ]
  },
  {
   "attachments": {},
   "cell_type": "markdown",
   "metadata": {},
   "source": [
    "This involves pointing the next pointer of the current last node of the linked list to the new data node.  \n",
    "So the current Last Node of Linked List becomes the second last data node and   \n",
    "the new node becomes the last node of the linked list "
   ]
  },
  {
   "cell_type": "code",
   "execution_count": 1,
   "metadata": {},
   "outputs": [],
   "source": [
    "class Node:\n",
    "    def __init__(self,data):\n",
    "        self.data = data\n",
    "        self.next = None "
   ]
  },
  {
   "cell_type": "code",
   "execution_count": 17,
   "metadata": {},
   "outputs": [],
   "source": [
    "class LinkedList:\n",
    "    def __init__(self):\n",
    "        self.head = None \n",
    "    \n",
    "    def print(self):\n",
    "        temp = self.head \n",
    "        while temp is not None:\n",
    "            print(temp.data)\n",
    "            temp = temp.next\n",
    "\n",
    "    # Inserting from Tail \n",
    "    def InsertingFromTail(self,newvalue):\n",
    "        # newNode = Node(newvalue)\n",
    "        # while self.head is None: \n",
    "        #     temp = self.head\n",
    "        #     temp = temp.next\n",
    "        # temp = newNode\n",
    "        # return \n",
    "        newNode = Node(newvalue) # newnode bana jo humara peechese ghusega \n",
    "        if self.head is None:  # agar head humara None hoga & vo tbhi hoga jbh last node aayega \n",
    "            self.head = newNode # tbh vo None vale ko newNode banado & return krdo \n",
    "            return \n",
    "        last = self.head # agr none nahi raha tou head ko last mai mai store karo & while chalate jaa next next \n",
    "        while last.next:\n",
    "            last = last.next # iterate hote jaaraha hai ek -ek krke \n",
    "        last.next = newNode  #  jaise loop end hoga last tak pochke  vaise hie bahar humm last.next element ko point kardenge newNode pe \n",
    "# so abh new Node point krrha Node pe & uske peeche ka element bhi brbr point krrha ushe"
   ]
  },
  {
   "cell_type": "code",
   "execution_count": 18,
   "metadata": {},
   "outputs": [
    {
     "name": "stdout",
     "output_type": "stream",
     "text": [
      "10\n",
      "20\n",
      "30\n",
      "Inserting from Tail :\n",
      "10\n",
      "20\n",
      "30\n",
      "99\n"
     ]
    }
   ],
   "source": [
    "linkedlist = LinkedList() \n",
    "firstnode  = Node(10)\n",
    "secondNode = Node(20)\n",
    "thirdNode = Node(30)\n",
    "\n",
    "linkedlist.head = firstnode\n",
    "firstnode.next = secondNode\n",
    "secondNode.next = thirdNode\n",
    "\n",
    "linkedlist.print()\n",
    "linkedlist.InsertingFromTail(99)\n",
    "print(\"Inserting from Tail :\")\n",
    "linkedlist.print()\n"
   ]
  },
  {
   "cell_type": "code",
   "execution_count": null,
   "metadata": {},
   "outputs": [],
   "source": []
  }
 ],
 "metadata": {
  "kernelspec": {
   "display_name": "Python 3",
   "language": "python",
   "name": "python3"
  },
  "language_info": {
   "codemirror_mode": {
    "name": "ipython",
    "version": 3
   },
   "file_extension": ".py",
   "mimetype": "text/x-python",
   "name": "python",
   "nbconvert_exporter": "python",
   "pygments_lexer": "ipython3",
   "version": "3.9.13"
  },
  "orig_nbformat": 4,
  "vscode": {
   "interpreter": {
    "hash": "43a24ecce625020f2d6631fb4cfb730bba30d877e9fe9ec2e0d85cb5a52a2b64"
   }
  }
 },
 "nbformat": 4,
 "nbformat_minor": 2
}
