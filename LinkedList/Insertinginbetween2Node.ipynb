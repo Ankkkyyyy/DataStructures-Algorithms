{
 "cells": [
  {
   "attachments": {},
   "cell_type": "markdown",
   "metadata": {},
   "source": [
    "# Inserting in Between 2 Data Nodes "
   ]
  },
  {
   "attachments": {},
   "cell_type": "markdown",
   "metadata": {},
   "source": [
    "This involves changing the pointer of a specific node to point the new node  \n",
    "and the existing node after which the new node will be inserted.   \n",
    "So we define an aditional class which will change the next pointer of the new node to the next pointer of middle node."
   ]
  },
  {
   "cell_type": "code",
   "execution_count": 1,
   "metadata": {},
   "outputs": [],
   "source": [
    "class Node:\n",
    "    def __init__(self,data):\n",
    "        self.data = data \n",
    "        self.next = None "
   ]
  },
  {
   "cell_type": "code",
   "execution_count": 8,
   "metadata": {},
   "outputs": [],
   "source": [
    "class LinkedList:\n",
    "    def __init__(self):\n",
    "        self.head = None \n",
    "    \n",
    "    def print(self):\n",
    "        temp = self.head \n",
    "        while temp is not None:\n",
    "            print(temp.data)\n",
    "            temp = temp.next\n",
    "    def InsertInBetween(self,middlenode,newvalue):\n",
    "        if middlenode is None:\n",
    "            print(\"The mentioned node is absent !\")\n",
    "            return \n",
    "        newNode = Node(newvalue)\n",
    "        newNode.next = middlenode.next \n",
    "        middlenode.next = newNode\n"
   ]
  },
  {
   "cell_type": "code",
   "execution_count": 14,
   "metadata": {},
   "outputs": [
    {
     "name": "stdout",
     "output_type": "stream",
     "text": [
      "10\n",
      "20\n",
      "30\n",
      "---- Inserting in Between ! -----------\n",
      "10\n",
      "20\n",
      "yo\n",
      "30\n",
      "---- Inserting in Between ! -----------\n",
      "10\n",
      "20\n",
      "yo\n",
      "yo\n",
      "30\n"
     ]
    }
   ],
   "source": [
    "linkedlist = LinkedList()\n",
    "firstNode = Node(10)\n",
    "secondNode = Node(20)\n",
    "thirdNode = Node(30)\n",
    "\n",
    "linkedlist.head = firstNode\n",
    "firstNode.next = secondNode\n",
    "secondNode.next = thirdNode\n",
    "\n",
    "linkedlist.print()\n",
    "\n",
    "linkedlist.InsertInBetween(linkedlist.head.next,\"yo\")\n",
    "\n",
    "print(\"---- Inserting in Between ! -----------\")\n",
    "\n",
    "linkedlist.print()\n",
    "\n",
    "linkedlist.InsertInBetween(linkedlist.head.next.next,\"yo\")\n",
    "\n",
    "print(\"---- Inserting in Between ! -----------\")\n",
    "\n",
    "linkedlist.print()\n",
    "\n"
   ]
  }
 ],
 "metadata": {
  "kernelspec": {
   "display_name": "Python 3",
   "language": "python",
   "name": "python3"
  },
  "language_info": {
   "codemirror_mode": {
    "name": "ipython",
    "version": 3
   },
   "file_extension": ".py",
   "mimetype": "text/x-python",
   "name": "python",
   "nbconvert_exporter": "python",
   "pygments_lexer": "ipython3",
   "version": "3.9.13"
  },
  "orig_nbformat": 4,
  "vscode": {
   "interpreter": {
    "hash": "43a24ecce625020f2d6631fb4cfb730bba30d877e9fe9ec2e0d85cb5a52a2b64"
   }
  }
 },
 "nbformat": 4,
 "nbformat_minor": 2
}
