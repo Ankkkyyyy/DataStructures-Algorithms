{
 "cells": [
  {
   "attachments": {},
   "cell_type": "markdown",
   "metadata": {},
   "source": [
    "# Removing ELements from the Linked List "
   ]
  },
  {
   "cell_type": "code",
   "execution_count": 1,
   "metadata": {},
   "outputs": [],
   "source": [
    "class Node:\n",
    "    def __init__(self,data):\n",
    "        self.data = data\n",
    "        self.next = None \n"
   ]
  },
  {
   "cell_type": "code",
   "execution_count": 8,
   "metadata": {},
   "outputs": [],
   "source": [
    "class LinkedList:\n",
    "    def __init__(self):\n",
    "        self.head = None \n",
    "    \n",
    "    def print(self):\n",
    "        temp = self.head \n",
    "        while temp is not None:\n",
    "            print(temp.data)\n",
    "            temp = temp.next\n",
    "\n",
    "    def InsertFromhead(self,newValue):\n",
    "        newNode = Node(newValue)\n",
    "        newNode.next = self.head \n",
    "        self.head = newNode\n",
    "    \n",
    "    def remove(self,value):\n",
    "        head = self.head \n",
    "        if head is not None:\n",
    "            # none tbh hoga jbh kch hoga nahi usme shuru mai \n",
    "            if head.data == value:\n",
    "                self.head = head.next\n",
    "                # pushing in next part \n",
    "                head = None \n",
    "                \n",
    "#If the while loop completes without finding the node with the specified value, \n",
    "# then head will be None, indicating that the value was not found in the linked list. \n",
    "# In this case, the method simply returns.\n",
    "\n",
    "# If the while loop does find the node with the specified value,\n",
    "#  the method updates the next pointer of the previous node to point to the node after the current node,\n",
    "#  effectively removing the current node from the linked list. Then the current node is set to None. \n",
    "# Finally, the method completes by returning.\n",
    "\n",
    "            while(head is not None):\n",
    "                if head.data == value:\n",
    "                    break\n",
    "                previous = head # isme tp mai store krrha hoo \n",
    "                head = head.next  # & fir aageh bada deraha pointer ko \n",
    "            if head == None: # jbh head None raha mtlb last raha \n",
    "                return  # tbh return krdo \n",
    "            # element jaise mila while loop mai \n",
    "            # vaise hie hum kya krrhe \n",
    "            # jo previous element store tha uske next pointer mai jo humara current head hai uska next pointer store krrhe \n",
    "            # so ishse yeah horaha ki \n",
    "            # previous.next is pointing to head.next  \n",
    "            # mtlb previous element ke aageh bhai current head ( jisko nikalna hai ) uska next element point horhaa\n",
    "            # so ese vo head remove hojaraha kindoff so it becomes None  \n",
    "            previous.next = head.next \n",
    "            head = None\n",
    "\n"
   ]
  },
  {
   "cell_type": "code",
   "execution_count": 7,
   "metadata": {},
   "outputs": [
    {
     "name": "stdout",
     "output_type": "stream",
     "text": [
      "10\n",
      "20\n",
      "99\n",
      "After Inserting 909 from head : \n",
      "909\n",
      "10\n",
      "20\n",
      "99\n",
      "After deletion: \n",
      "909\n",
      "10\n",
      "20\n"
     ]
    }
   ],
   "source": [
    "linkedlist = LinkedList()\n",
    "firstnode = Node(10)\n",
    "secondNode = Node(20)\n",
    "thirdNode = Node(99)\n",
    "\n",
    "linkedlist.head = firstnode\n",
    "firstnode.next = secondNode\n",
    "secondNode.next = thirdNode\n",
    "\n",
    "linkedlist.print()\n",
    "\n",
    "linkedlist.InsertFromhead(909)\n",
    "print(\"After Inserting 909 from head : \")\n",
    "linkedlist.print()\n",
    "\n",
    "# linkedlist.remove(20)\n",
    "# print(\"After deletion: \")\n",
    "\n",
    "# linkedlist.print()\n",
    "\n",
    "linkedlist.remove(99)\n",
    "print(\"After deletion: \")\n",
    "linkedlist.print()"
   ]
  },
  {
   "attachments": {},
   "cell_type": "markdown",
   "metadata": {},
   "source": [
    "## Explanation\n",
    "\n",
    "This is a code snippet for a method to remove a node from a singly linked list with the given value.\n",
    "\n",
    "The method takes in a parameter value, which is the value to be removed from the linked list.\n",
    "\n",
    "The first few lines of the method initialize a variable head to point to the head of the linked list, and then check if the linked list is empty. If it is, then there is nothing to remove, so the method simply returns.\n",
    "\n",
    "Next, the method checks if the head node of the linked list has the same value as the value parameter. If it does, then the head node is removed by updating the head to point to the next node in the list, and then setting the old head to None.\n",
    "\n",
    "After that, the method uses a while loop to iterate through the linked list to find the node with the specified value. If it finds the node, it breaks out of the loop, leaving the variable head pointing to the node with the specified value.\n",
    "\n",
    "If the while loop completes without finding the node with the specified value, then head will be None, indicating that the value was not found in the linked list. In this case, the method simply returns.\n",
    "\n",
    "If the while loop does find the node with the specified value, the method updates the next pointer of the previous node to point to the node after the current node, effectively removing the current node from the linked list. Then the current node is set to None. Finally, the method completes by returning."
   ]
  }
 ],
 "metadata": {
  "kernelspec": {
   "display_name": "Python 3",
   "language": "python",
   "name": "python3"
  },
  "language_info": {
   "codemirror_mode": {
    "name": "ipython",
    "version": 3
   },
   "file_extension": ".py",
   "mimetype": "text/x-python",
   "name": "python",
   "nbconvert_exporter": "python",
   "pygments_lexer": "ipython3",
   "version": "3.9.13"
  },
  "orig_nbformat": 4,
  "vscode": {
   "interpreter": {
    "hash": "43a24ecce625020f2d6631fb4cfb730bba30d877e9fe9ec2e0d85cb5a52a2b64"
   }
  }
 },
 "nbformat": 4,
 "nbformat_minor": 2
}
