{
 "cells": [
  {
   "cell_type": "markdown",
   "metadata": {},
   "source": [
    "# Insertion at the Beginning of the Linked List \n"
   ]
  },
  {
   "attachments": {},
   "cell_type": "markdown",
   "metadata": {},
   "source": [
    "This involves pointing the next pointer of the new data node to the current head of linked list. \n",
    "\n",
    "So the current head of the linked list becomes the second data elements & the new node becomes the head of linked list ."
   ]
  },
  {
   "cell_type": "code",
   "execution_count": 1,
   "metadata": {},
   "outputs": [],
   "source": [
    "class Node:\n",
    "    def __init__(self,data):\n",
    "        self.data = data \n",
    "        self.next = None"
   ]
  },
  {
   "cell_type": "code",
   "execution_count": 8,
   "metadata": {},
   "outputs": [],
   "source": [
    "class LinkedList:\n",
    "    def __init__(self):\n",
    "        self.head = None\n",
    "\n",
    "    def print(self):\n",
    "        temp = self.head \n",
    "        while temp is not None:\n",
    "            print(temp.data)\n",
    "            temp = temp.next\n",
    "    def InsertFromHead(self,newValue):\n",
    "        newNode = Node(newValue)\n",
    "        newNode.next = self.head\n",
    "        self.head = newNode"
   ]
  },
  {
   "cell_type": "code",
   "execution_count": 7,
   "metadata": {},
   "outputs": [
    {
     "name": "stdout",
     "output_type": "stream",
     "text": [
      "10\n",
      "20\n",
      "99\n",
      "After Inserting 909 from head : \n",
      "909\n",
      "10\n",
      "20\n",
      "99\n"
     ]
    }
   ],
   "source": [
    "linkedlist = LinkedList()\n",
    "firstnode = Node(10)\n",
    "secondNode = Node(20)\n",
    "thirdNode = Node(99)\n",
    "\n",
    "linkedlist.head = firstnode\n",
    "firstnode.next = secondNode\n",
    "secondNode.next = thirdNode\n",
    "\n",
    "linkedlist.print()\n",
    "\n",
    "linkedlist.InsertFromHead(909)\n",
    "print(\"After Inserting 909 from head : \")\n",
    "linkedlist.print()"
   ]
  }
 ],
 "metadata": {
  "kernelspec": {
   "display_name": "Python 3",
   "language": "python",
   "name": "python3"
  },
  "language_info": {
   "codemirror_mode": {
    "name": "ipython",
    "version": 3
   },
   "file_extension": ".py",
   "mimetype": "text/x-python",
   "name": "python",
   "nbconvert_exporter": "python",
   "pygments_lexer": "ipython3",
   "version": "3.9.13"
  },
  "orig_nbformat": 4,
  "vscode": {
   "interpreter": {
    "hash": "43a24ecce625020f2d6631fb4cfb730bba30d877e9fe9ec2e0d85cb5a52a2b64"
   }
  }
 },
 "nbformat": 4,
 "nbformat_minor": 2
}
