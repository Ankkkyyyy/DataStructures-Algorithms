{
 "cells": [
  {
   "cell_type": "markdown",
   "metadata": {},
   "source": [
    "# Linked List "
   ]
  },
  {
   "cell_type": "markdown",
   "metadata": {},
   "source": [
    "Linked list is a abstract data type which is randomly  \n",
    "\n",
    "stored inside memory  that is not contigous \n",
    "\n",
    "memory block mai node random kahibhi honge \n",
    "\n",
    "Node contains 2 attributes -> data & next node address.\n",
    "\n",
    " Every Node has 2 attribute \n",
    "\n",
    " Data & next pointer \n",
    "\n",
    "next pointer jo hai usme address hai next node ka \n",
    "\n",
    "Let's create a Linked list of  [10|200]--> [20|300 ]--->[30|null]\n",
    "\n",
    "                                    200          300 \n",
    "\n",
    "Last Node is called tail of Linked list \n",
    "\n",
    "\n",
    "start node is called head of linked list \n",
    "\n",
    "\n",
    "Difference Between List & Linked List \n",
    "\n",
    " 1.) list is contigous allocated    1.) linked list is stored randomly \n",
    "\n",
    " 2.) Improper utilization of memory  2.) Proper Utilization of Memory \n",
    "\n",
    " 3.)  List is index accessible 0(1)  3.) Can't be accessible through index , only way is to traverse it o(n)\n",
    "\n",
    "4.) Insertion deletion can be costly  4.) Insertion deletion easy \n",
    "\n",
    "\n",
    "\n",
    " Implementing of Linked List  & Traversing of Linked List \n",
    "\n",
    "A  ->                   B        ->      C -> null\n",
    "\n",
    "Data / next Node --> Data / Node --> Data / Node \n",
    "\n",
    "\n",
    "head                              tail \n"
   ]
  },
  {
   "cell_type": "code",
   "execution_count": 4,
   "metadata": {},
   "outputs": [],
   "source": [
    "class Node: \n",
    "    def __init__(self,data):\n",
    "        self.data = data \n",
    "        self.next = None "
   ]
  },
  {
   "cell_type": "code",
   "execution_count": 1,
   "metadata": {},
   "outputs": [],
   "source": [
    "class Linkedlist:\n",
    "    def __init__(self):\n",
    "        self.head = None\n",
    "\n",
    "    # For traversing \n",
    "    def print(self):\n",
    "        temp = self.head\n",
    "        while temp is not None:\n",
    "            print(temp.data,end=\"->\")\n",
    "            temp = temp.next\n",
    "            "
   ]
  },
  {
   "cell_type": "code",
   "execution_count": 5,
   "metadata": {},
   "outputs": [],
   "source": [
    "mylinkedlist = Linkedlist()\n",
    "firstNode = Node(10)\n",
    "secondNode = Node(90)\n",
    "thirdNode = Node(99)\n",
    "\n",
    "mylinkedlist.head = firstNode\n",
    "firstNode.next = secondNode\n",
    "secondNode.next = thirdNode\n"
   ]
  },
  {
   "cell_type": "code",
   "execution_count": 6,
   "metadata": {},
   "outputs": [
    {
     "name": "stdout",
     "output_type": "stream",
     "text": [
      "10->90->99->"
     ]
    }
   ],
   "source": [
    "mylinkedlist.print()"
   ]
  },
  {
   "cell_type": "markdown",
   "metadata": {},
   "source": [
    "#### Doubly Linked List --> Bidirectional forward & backward \n",
    "isme 3 field hote hai   [data | next pointer | previous Pointer]\n",
    "\n",
    "#### Circular Linked list --> it is unidirectional \n",
    "\n",
    "Here tail points to Head ( coz Gol Gol ghumta hai na bhai ) \n",
    "\n",
    "#### Doubly Circular Linked List --> it is Bidirectional \n",
    "\n",
    "tail points to head \n",
    "\n"
   ]
  },
  {
   "cell_type": "markdown",
   "metadata": {},
   "source": [
    "#### Applications \n",
    "\n",
    "RLU Cache \n",
    "Implementation of Stack & Queue  \n",
    "Browser Back Button  \n",
    "Memory Optimization\n",
    "\n",
    "#### Real Life Example \n",
    "\n",
    "Playlist in a music player - next & previous button ( doubly linked list )  \n",
    "Caches  \n",
    "Switching Tabs inside Browser  \n",
    "\n",
    "#### Advantages \n",
    "\n",
    "1. Memory optimization \n",
    "2. Insertion / Deletion Major concern \n",
    "\n",
    "####  Disadvantages \n",
    "Searching inside particular linked list  o(n)\n",
    "\n",
    "\n",
    "\n"
   ]
  }
 ],
 "metadata": {
  "kernelspec": {
   "display_name": "Python 3 (ipykernel)",
   "language": "python",
   "name": "python3"
  },
  "language_info": {
   "codemirror_mode": {
    "name": "ipython",
    "version": 3
   },
   "file_extension": ".py",
   "mimetype": "text/x-python",
   "name": "python",
   "nbconvert_exporter": "python",
   "pygments_lexer": "ipython3",
   "version": "3.9.13"
  },
  "vscode": {
   "interpreter": {
    "hash": "43a24ecce625020f2d6631fb4cfb730bba30d877e9fe9ec2e0d85cb5a52a2b64"
   }
  }
 },
 "nbformat": 4,
 "nbformat_minor": 2
}
