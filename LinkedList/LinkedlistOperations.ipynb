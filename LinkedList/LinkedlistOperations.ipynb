{
 "cells": [
  {
   "attachments": {},
   "cell_type": "markdown",
   "metadata": {},
   "source": [
    "# All Linked list Ops"
   ]
  },
  {
   "cell_type": "code",
   "execution_count": 1,
   "metadata": {},
   "outputs": [],
   "source": [
    "class Node:\n",
    "    def __init__(self,data):\n",
    "        self.data = data\n",
    "        self.next = None "
   ]
  },
  {
   "cell_type": "code",
   "execution_count": 92,
   "metadata": {},
   "outputs": [],
   "source": [
    "class Linkedlist:\n",
    "    def __init__(self):\n",
    "        self.head = None \n",
    "    \n",
    "    def print(self):\n",
    "        temp = self.head \n",
    "        while temp is not None:\n",
    "            print(temp.data,end=\"->\")\n",
    "            temp = temp.next \n",
    "        print()\n",
    "    def InsertfromHead(self,newValue):\n",
    "        newNode = Node(newValue)\n",
    "        newNode.next = self.head\n",
    "        self.head = newNode\n",
    "    \n",
    "    def InsertfromTail(self,newValue):\n",
    "        newNode = Node(newValue)\n",
    "        if self.head is None:\n",
    "            self.head = newNode\n",
    "            return \n",
    "\n",
    "        last = self.head \n",
    "        while last.next:\n",
    "            last =last.next\n",
    "        last.next = newNode \n",
    "\n",
    "\n",
    "    def Insertbetween2Node(self,middlevalue,newValue):\n",
    "        if middlevalue is None:\n",
    "            print(\"the mentioned node is absent :\")\n",
    "            return \n",
    "        newNode = Node(newValue)\n",
    "        newNode.next = middlevalue.next \n",
    "        middlevalue.next = newNode\n",
    "    \n",
    "    def remove(self,value):\n",
    "        head = self.head        \n",
    "        # Yeah specifically code hai if 0th index is the value that \n",
    "        # we wanna delete     \n",
    "        if head is not None: \n",
    "            if head.data == value:\n",
    "                self.head = head.next \n",
    "                head = None\n",
    "\n",
    "            # This code is for if random middle element delete krna hai \n",
    "            while(head is not None):\n",
    "                if head.data == value:\n",
    "                    break \n",
    "                previous = head \n",
    "                head = head.next  \n",
    "            # For dealing if element is not present \n",
    "            if head == None:\n",
    "                print(\"Element is not present for deletion\")\n",
    "                return              \n",
    "            previous.next = head.next  # prevous tha value ka jo uska agla hojayega humare value ka agla ishse value beechmai margaya\n",
    "            head = None # now making it None \n",
    "          "
   ]
  },
  {
   "cell_type": "code",
   "execution_count": 98,
   "metadata": {},
   "outputs": [
    {
     "name": "stdout",
     "output_type": "stream",
     "text": [
      "10->90->99->\n",
      "-----InsertfromHead Operation------\n",
      "fromHead->10->90->99->\n",
      "-----InsertfromTail Operation------\n",
      "fromHead->10->90->99->909->\n",
      "-----Insertbetween2Node Operation------\n",
      "fromHead->10->inbetween->90->99->909->\n",
      "-----Remove Operation------\n",
      "fromHead->10->90->99->909->\n",
      "Element is not present for deletion\n",
      "10->90->99->909->\n",
      "Element is not present for deletion\n",
      "90->99->909->\n",
      "Element is not present for deletion\n",
      "90->99->909->\n"
     ]
    }
   ],
   "source": [
    "ll = Linkedlist() \n",
    "firstNode = Node(10)\n",
    "secondNode = Node(90)\n",
    "thirdNode = Node(99)\n",
    "\n",
    "ll.head = firstNode\n",
    "firstNode.next = secondNode\n",
    "secondNode.next = thirdNode\n",
    "\n",
    "ll.print()\n",
    "\n",
    "print(\"-----InsertfromHead Operation------\")\n",
    "\n",
    "ll.InsertfromHead(\"fromHead\")\n",
    "ll.print()\n",
    "\n",
    "print(\"-----InsertfromTail Operation------\")\n",
    "\n",
    "ll.InsertfromTail(909)\n",
    "ll.print()\n",
    "\n",
    "print(\"-----Insertbetween2Node Operation------\")\n",
    "\n",
    "ll.Insertbetween2Node(ll.head.next,\"inbetween\")\n",
    "ll.print()\n",
    "\n",
    "print(\"-----Remove Operation------\")\n",
    "\n",
    "\n",
    "ll.remove(\"inbetween\")\n",
    "ll.print()\n",
    "\n",
    "\n",
    "ll.remove(\"fromHead\")\n",
    "ll.print()\n",
    "\n",
    "\n",
    "ll.remove(10)\n",
    "ll.print()\n",
    "\n",
    "\n",
    "ll.remove(909080)\n",
    "ll.print()"
   ]
  },
  {
   "attachments": {},
   "cell_type": "markdown",
   "metadata": {},
   "source": [
    "## Search Ops Remaining"
   ]
  },
  {
   "attachments": {},
   "cell_type": "markdown",
   "metadata": {},
   "source": [
    "Insert    \n",
    "Traverse    \n",
    "Delete    \n",
    "Search    \n",
    "Yeah chaaro ka hie pattern se har program solve krskte \n"
   ]
  }
 ],
 "metadata": {
  "kernelspec": {
   "display_name": "Python 3",
   "language": "python",
   "name": "python3"
  },
  "language_info": {
   "name": "python",
   "version": "3.9.13"
  },
  "orig_nbformat": 4,
  "vscode": {
   "interpreter": {
    "hash": "43a24ecce625020f2d6631fb4cfb730bba30d877e9fe9ec2e0d85cb5a52a2b64"
   }
  }
 },
 "nbformat": 4,
 "nbformat_minor": 2
}
