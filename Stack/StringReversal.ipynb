{
 "cells": [
  {
   "cell_type": "markdown",
   "metadata": {},
   "source": [
    "# String Reversal"
   ]
  },
  {
   "cell_type": "code",
   "execution_count": 3,
   "metadata": {},
   "outputs": [
    {
     "name": "stdout",
     "output_type": "stream",
     "text": [
      "Original Stack :  ['H', 'e', 'l', 'l', 'o']\n",
      "Reverse stack : ['o', 'l', 'l', 'e', 'H']\n"
     ]
    }
   ],
   "source": [
    "stringg = \"Hello\"\n",
    "stack1 = []\n",
    "stack2 = []\n",
    "stack1copy = []\n",
    "\n",
    "def pushOps(i):\n",
    "    stack1.append(i)\n",
    "\n",
    "for i in stringg:\n",
    "    pushOps(i)\n",
    "#--------------------- Making a Copy \n",
    "# stack1copy = list(stack1)\n",
    "stack1copy = stack1.copy()\n",
    "\n",
    "while(len(stack1copy)!=0):\n",
    "     stack2 +=   stack1copy.pop()\n",
    "\n",
    "print(\"Original Stack : \",stack1)\n",
    "\n",
    "print(\"Reverse stack :\",stack2)\n"
   ]
  },
  {
   "attachments": {},
   "cell_type": "markdown",
   "metadata": {},
   "source": [
    "#### Yeah Best Solution nahi hai for reversing a stack coz space problem hoti hai "
   ]
  },
  {
   "attachments": {},
   "cell_type": "markdown",
   "metadata": {},
   "source": [
    "rather below program provides the best solution"
   ]
  },
  {
   "cell_type": "code",
   "execution_count": null,
   "metadata": {},
   "outputs": [],
   "source": [
    "stringg = \"Hello\"\n",
    "stack = []\n",
    "reverseString = \"\"\n",
    "# def pushOps(i):\n",
    "#     stack.append(i)\n",
    "\n",
    "for i in stringg:\n",
    "    # pushOps(i)\n",
    "    stack.append(i)\n",
    "\n",
    "while(len(stack)!=0):\n",
    "    #  reverseString +=  stack.pop()\n",
    "     reverseString  =  reverseString + stack.pop() \n",
    "\n",
    "\n",
    "print(\"Original Stack : \",stringg)\n",
    "\n",
    "print(\"Reverse stack :\", reverseString)"
   ]
  }
 ],
 "metadata": {
  "kernelspec": {
   "display_name": "Python 3",
   "language": "python",
   "name": "python3"
  },
  "language_info": {
   "codemirror_mode": {
    "name": "ipython",
    "version": 3
   },
   "file_extension": ".py",
   "mimetype": "text/x-python",
   "name": "python",
   "nbconvert_exporter": "python",
   "pygments_lexer": "ipython3",
   "version": "3.9.13"
  },
  "orig_nbformat": 4,
  "vscode": {
   "interpreter": {
    "hash": "43a24ecce625020f2d6631fb4cfb730bba30d877e9fe9ec2e0d85cb5a52a2b64"
   }
  }
 },
 "nbformat": 4,
 "nbformat_minor": 2
}
