{
 "cells": [
  {
   "attachments": {},
   "cell_type": "markdown",
   "metadata": {},
   "source": [
    "# Stack "
   ]
  },
  {
   "cell_type": "code",
   "execution_count": 13,
   "metadata": {},
   "outputs": [],
   "source": [
    "def create_stack():\n",
    "  stack = []\n",
    "  return stack \n",
    "\n",
    "def check_empty(stack):\n",
    "  return len(stack)==0\n",
    "\n",
    "def pushOps(stack,item):\n",
    "  stack.append(item)\n",
    "  print(\"Pushed item is :\",item)\n",
    "\n",
    "def popOps(stack):\n",
    "  if check_empty(stack):\n",
    "    print(\"Stack is empty\")\n",
    "  else :\n",
    "    print(\"poping item :\",stack.pop())\n",
    "    print(\"after poping out your stack is :\",stack)"
   ]
  },
  {
   "cell_type": "code",
   "execution_count": 14,
   "metadata": {},
   "outputs": [
    {
     "name": "stdout",
     "output_type": "stream",
     "text": [
      "Pushed item is : 10\n",
      "Pushed item is : 0\n",
      "Pushed item is : 99\n",
      "['10', '0', '99']\n",
      "poping item : 99\n",
      "after poping out your stack is : ['10', '0']\n"
     ]
    }
   ],
   "source": [
    "stack = create_stack()\n",
    "pushOps(stack,str(10))\n",
    "pushOps(stack,str(0))\n",
    "pushOps(stack,str(99))\n",
    "print(stack)\n",
    "\n",
    "popOps(stack)\n"
   ]
  }
 ],
 "metadata": {
  "kernelspec": {
   "display_name": "Python 3",
   "language": "python",
   "name": "python3"
  },
  "language_info": {
   "codemirror_mode": {
    "name": "ipython",
    "version": 3
   },
   "file_extension": ".py",
   "mimetype": "text/x-python",
   "name": "python",
   "nbconvert_exporter": "python",
   "pygments_lexer": "ipython3",
   "version": "3.9.13"
  },
  "orig_nbformat": 4,
  "vscode": {
   "interpreter": {
    "hash": "43a24ecce625020f2d6631fb4cfb730bba30d877e9fe9ec2e0d85cb5a52a2b64"
   }
  }
 },
 "nbformat": 4,
 "nbformat_minor": 2
}
