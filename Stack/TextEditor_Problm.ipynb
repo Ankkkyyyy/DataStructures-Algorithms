{
 "cells": [
  {
   "attachments": {},
   "cell_type": "markdown",
   "metadata": {},
   "source": [
    "## Text Editor Problem "
   ]
  },
  {
   "attachments": {},
   "cell_type": "markdown",
   "metadata": {},
   "source": [
    "Take input then undo redo kardo \n",
    "\n",
    "2 stack banao 1 for undo & 1 for redo "
   ]
  },
  {
   "cell_type": "code",
   "execution_count": 1,
   "metadata": {},
   "outputs": [],
   "source": [
    "def text_editor(string,pattern):\n",
    "\n",
    "    undo = []\n",
    "    redo = []\n",
    "\n",
    "    def pushOps(i):\n",
    "       undo.append(i)\n",
    "\n",
    "    def pushOps2(i):\n",
    "       redo.append(i)\n",
    "\n",
    "    for i in string:\n",
    "        pushOps(i)\n",
    "\n",
    "    for i in pattern:\n",
    "      if i =='u':\n",
    "        data =undo.pop()\n",
    "        pushOps2(data)\n",
    "      else:\n",
    "        data = redo.pop()\n",
    "        pushOps(data)\n",
    "\n",
    "      result = \"\"\n",
    "\n",
    "    while(len(undo)!=0):\n",
    "         result = undo.pop() + result\n",
    "\n",
    "    print(result)\n",
    "   "
   ]
  },
  {
   "cell_type": "code",
   "execution_count": 2,
   "metadata": {},
   "outputs": [
    {
     "name": "stdout",
     "output_type": "stream",
     "text": [
      "yo\n"
     ]
    }
   ],
   "source": [
    "text_editor(\"yoo\",\"uurru\")"
   ]
  }
 ],
 "metadata": {
  "kernelspec": {
   "display_name": "Python 3",
   "language": "python",
   "name": "python3"
  },
  "language_info": {
   "codemirror_mode": {
    "name": "ipython",
    "version": 3
   },
   "file_extension": ".py",
   "mimetype": "text/x-python",
   "name": "python",
   "nbconvert_exporter": "python",
   "pygments_lexer": "ipython3",
   "version": "3.9.13"
  },
  "orig_nbformat": 4,
  "vscode": {
   "interpreter": {
    "hash": "43a24ecce625020f2d6631fb4cfb730bba30d877e9fe9ec2e0d85cb5a52a2b64"
   }
  }
 },
 "nbformat": 4,
 "nbformat_minor": 2
}
